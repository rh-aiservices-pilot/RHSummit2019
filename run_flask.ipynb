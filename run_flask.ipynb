{
 "cells": [
  {
   "cell_type": "code",
   "execution_count": 1,
   "id": "7ee1af7f-bfd0-4c25-8621-6d0fb2dd14d1",
   "metadata": {},
   "outputs": [
    {
     "name": "stdout",
     "output_type": "stream",
     "text": [
      "curl: (7) Failed to connect to localhost port 5000: Connection refused\n"
     ]
    }
   ],
   "source": [
    "!curl -X POST -H \"Content-Type: application/json\" --data '{\"data\": \"hello world\"}' http://localhost:5000/predictions"
   ]
  },
  {
   "cell_type": "code",
   "execution_count": null,
   "id": "d9adabaa-faa0-4d90-9872-cf17ddcc0152",
   "metadata": {},
   "outputs": [],
   "source": [
    "#URL for pod\n",
    "#http://metrobus-repairs-nlp-workshop-audrey-metrobus.apps.integrations.fb55.p1.openshiftapps.com/\n"
   ]
  }
 ],
 "metadata": {
  "kernelspec": {
   "display_name": "Python 3 (ipykernel)",
   "language": "python",
   "name": "python3"
  },
  "language_info": {
   "codemirror_mode": {
    "name": "ipython",
    "version": 3
   },
   "file_extension": ".py",
   "mimetype": "text/x-python",
   "name": "python",
   "nbconvert_exporter": "python",
   "pygments_lexer": "ipython3",
   "version": "3.8.6"
  }
 },
 "nbformat": 4,
 "nbformat_minor": 5
}
