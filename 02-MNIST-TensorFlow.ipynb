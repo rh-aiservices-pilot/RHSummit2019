{
 "cells": [
  {
   "cell_type": "markdown",
   "metadata": {},
   "source": [
    "# MNIST Example Neutral Network in TensorFlow\n",
    "\n",
    "To really dive into AI, we need to use one of the many frameworks. TensorFlow is a machine learning library from Google, and is the most well known and widely used to do this kind of work. It has several layers, allowing you to get arbitrarily deep into the weeds when it comes to coding machine learning code. However, for the purposes of this demo, we will stay at a fairly high level, using the packaged \"Keras\" library. Keras lets us look at neural networks in terms of layers of nodes, and is generally easy to work with for new users. It doesn't require a lot of the advanced math that some lower layers might need, instead just requiring a general understanding of when to apply certain techniques\n",
    "\n",
    "In this demo, we will be using TensorFlow's Keras library to work on the MNIST dataset from before. While it is possible for non-AI code to do things like handwritten digit classification, AI is currently the state of the art. It also has the secondary benefit of being significantly easier in some cases to program. Some other approaches involve decision trees or support vector machines (https://en.wikipedia.org/wiki/Support-vector_machine)\n",
    "\n",
    "This notebook will cover some of the data preparation required, training the AI, and evaluating the AI"
   ]
  },
  {
   "cell_type": "markdown",
   "metadata": {},
   "source": [
    "To start with, we have our common imports"
   ]
  },
  {
   "cell_type": "code",
   "execution_count": 1,
   "metadata": {
    "ExecuteTime": {
     "end_time": "2021-03-15T19:10:42.931287Z",
     "start_time": "2021-03-15T19:10:41.256164Z"
    }
   },
   "outputs": [
    {
     "name": "stderr",
     "output_type": "stream",
     "text": [
      "2021-09-14 18:54:38.124980: I tensorflow/stream_executor/platform/default/dso_loader.cc:49] Successfully opened dynamic library libcudart.so.11.0\n"
     ]
    }
   ],
   "source": [
    "import os\n",
    "import tensorflow as tf\n",
    "import pandas as pd\n",
    "import numpy as np\n",
    "import matplotlib.pyplot as plt"
   ]
  },
  {
   "cell_type": "markdown",
   "metadata": {},
   "source": [
    "Since this is a new notebook, we will need to load the TensorFlow data again"
   ]
  },
  {
   "cell_type": "code",
   "execution_count": 2,
   "metadata": {
    "ExecuteTime": {
     "end_time": "2021-03-15T19:10:50.012987Z",
     "start_time": "2021-03-15T19:10:46.731625Z"
    }
   },
   "outputs": [],
   "source": [
    "train_df: pd.DataFrame = pd.read_csv('Resources/mnist_train.csv', header=None)\n",
    "test_df: pd.DataFrame = pd.read_csv('Resources/mnist_test.csv', header=None)"
   ]
  },
  {
   "cell_type": "markdown",
   "metadata": {},
   "source": [
    "We will split the dataset in the same way, separating the features from the labels"
   ]
  },
  {
   "cell_type": "code",
   "execution_count": 3,
   "metadata": {
    "ExecuteTime": {
     "end_time": "2021-03-15T19:10:51.940752Z",
     "start_time": "2021-03-15T19:10:51.935375Z"
    }
   },
   "outputs": [],
   "source": [
    "train_features: np.ndarray = train_df.loc[:, 1:].values"
   ]
  },
  {
   "cell_type": "markdown",
   "metadata": {},
   "source": [
    "Next we need to unpack the features here into a 4d data structure. This is necessary because of the AI we will be using later in the notebook. The AI we use will have a convolutional layer. This layer is explained in more detail below, but it is very good at extracting information from images. However to use it we need to format the data in the way that it expects. The convolutional layer expects each input to be a 3d array, containing a set of pixels arranged by width and height, and then for each element in that matrix to be an array of 1 to 3 elements. In the case of our dataset, it's all greyscale, so we'll have a single element in each array but it could also be a set of three representing an \\[R, G, B\\] pixel value\n",
    "\n",
    "In our case, we simply reshape it into 60,000 28x28x1 arrays"
   ]
  },
  {
   "cell_type": "code",
   "execution_count": 4,
   "metadata": {
    "ExecuteTime": {
     "end_time": "2021-03-15T19:10:55.866585Z",
     "start_time": "2021-03-15T19:10:55.864039Z"
    }
   },
   "outputs": [],
   "source": [
    "train_features = train_features.reshape((train_features.shape[0], 28, 28, 1))"
   ]
  },
  {
   "cell_type": "markdown",
   "metadata": {},
   "source": [
    "Next we need to normalize the data. This is a very important step for two reasons: One it helps the model learn faster when the inputs are in the range \\[0, 1\\], and two it helps prevent the vanishing/exploding gradients problem in certain neural networks\n",
    "\n",
    "The exact nature of the vanishing/exploding gradient problem is out of the scope of this demo, but you can find some information on the nature of the problem here: https://medium.com/learn-love-ai/the-curious-case-of-the-vanishing-exploding-gradient-bf58ec6822eb\n",
    "\n",
    "To normalize the data, we simply divide it by the maximum value: 255 in our case, since we know the data is in the range \\[0, 255\\]"
   ]
  },
  {
   "cell_type": "code",
   "execution_count": 5,
   "metadata": {
    "ExecuteTime": {
     "end_time": "2021-03-15T19:10:58.776066Z",
     "start_time": "2021-03-15T19:10:58.610898Z"
    }
   },
   "outputs": [],
   "source": [
    "train_features = train_features / 255.0"
   ]
  },
  {
   "cell_type": "markdown",
   "metadata": {},
   "source": [
    "Finally, we split out the labels"
   ]
  },
  {
   "cell_type": "code",
   "execution_count": 6,
   "metadata": {
    "ExecuteTime": {
     "end_time": "2021-03-15T19:11:01.386654Z",
     "start_time": "2021-03-15T19:11:01.384067Z"
    }
   },
   "outputs": [],
   "source": [
    "train_labels: np.ndarray = train_df[0].values"
   ]
  },
  {
   "cell_type": "markdown",
   "metadata": {},
   "source": [
    "We do the same preprocessing for the test dataset\n",
    "\n",
    "It's important to understand why we have a separate dataset for training and testing. Neural networks are designed to \"learn\" associations in data by looking at large sets of data. However, it can also learn some bad habits, for example if all of the digits were written by someone right-handed, it may learn habits associated with right handed digits and perform poorly when it comes to digits written with the left hand. This learning of peculiarities of a given sample of data is called \"overfitting\". It's a problem that arises when a training dataset doesn't fully accurately reflect reality. It is related to, but not the same as having a \"biased\" AI. There are several examples in the news lately of AI having biases for all sorts of reasons. One good way to help ensure good AI performance in terms of overfitting is to ensure that it can perform well on data that it hasn't seen before. To do this, we separate some of the data into a test dataset that is only used to evaluate the performance of the AI, and not to train it. This is only one tool, and bias and overfitting can occur in many ways, but it's always good practice to evaluate the AI on a test dataset to ensure it hasn't overfit to the training dataset.\n",
    "\n",
    "You can read some more about bias in AI with a google search, but a good summary of some of the problems can be read at: https://www.technologyreview.com/s/612876/this-is-how-ai-bias-really-happensand-why-its-so-hard-to-fix/"
   ]
  },
  {
   "cell_type": "code",
   "execution_count": 7,
   "metadata": {
    "ExecuteTime": {
     "end_time": "2021-03-15T19:11:04.680977Z",
     "start_time": "2021-03-15T19:11:04.658922Z"
    }
   },
   "outputs": [],
   "source": [
    "test_features: np.ndarray = test_df.loc[:, 1:].values\n",
    "test_features = test_features.reshape((test_features.shape[0], 28, 28, 1))\n",
    "test_features = test_features / 255.0\n",
    "test_labels: np.ndarray = test_df[0].values"
   ]
  },
  {
   "cell_type": "markdown",
   "metadata": {},
   "source": [
    "Now we finally create our model\n",
    "\n",
    "This model is a Sequential model, meaning that each layer sends its outputs to all inputs of the layer that follows it\n",
    "\n",
    "We will add several layers into this model, along with some explanations about why these certain layers are good to use when solving certain problems, however there are many combinations that could possibly work. Building good intuition about when and how to use certain types of AI is going to be important in ensuring that your AIs perform well in the future"
   ]
  },
  {
   "cell_type": "code",
   "execution_count": 8,
   "metadata": {
    "ExecuteTime": {
     "end_time": "2021-03-15T19:11:08.144791Z",
     "start_time": "2021-03-15T19:11:08.115016Z"
    }
   },
   "outputs": [
    {
     "name": "stderr",
     "output_type": "stream",
     "text": [
      "2021-09-14 18:54:58.670250: I tensorflow/compiler/jit/xla_cpu_device.cc:41] Not creating XLA devices, tf_xla_enable_xla_devices not set\n",
      "2021-09-14 18:54:58.670440: W tensorflow/stream_executor/platform/default/dso_loader.cc:60] Could not load dynamic library 'libcuda.so.1'; dlerror: libcuda.so.1: cannot open shared object file: No such file or directory; LD_LIBRARY_PATH: /usr/local/nvidia/lib:/usr/local/nvidia/lib64\n",
      "2021-09-14 18:54:58.670453: W tensorflow/stream_executor/cuda/cuda_driver.cc:326] failed call to cuInit: UNKNOWN ERROR (303)\n",
      "2021-09-14 18:54:58.670472: I tensorflow/stream_executor/cuda/cuda_diagnostics.cc:156] kernel driver does not appear to be running on this host (jupyterhub-nb-adrezni): /proc/driver/nvidia/version does not exist\n",
      "2021-09-14 18:54:58.670670: I tensorflow/core/platform/cpu_feature_guard.cc:142] This TensorFlow binary is optimized with oneAPI Deep Neural Network Library (oneDNN) to use the following CPU instructions in performance-critical operations:  AVX2 AVX512F FMA\n",
      "To enable them in other operations, rebuild TensorFlow with the appropriate compiler flags.\n",
      "2021-09-14 18:54:58.673529: I tensorflow/compiler/jit/xla_gpu_device.cc:99] Not creating XLA devices, tf_xla_enable_xla_devices not set\n"
     ]
    }
   ],
   "source": [
    "model: tf.keras.models.Sequential = tf.keras.models.Sequential()"
   ]
  },
  {
   "cell_type": "markdown",
   "metadata": {},
   "source": [
    "### Conv2D\n",
    "A layer performing convolution over a 2d input\n",
    "\n",
    "Convolution is one of the most important techniques in modern AI, it's built on top of Fourier transformations, and is currently the state of the art when it comes to image analysis. In a basic convolution, one takes a small snapshot of the pixels, and examines how they blend together and applying a filter to strengthen or weaken the effect. This is done over the entire image, which allows things like edges to be strengthened or unimportant parts of the image to be blurred.\n",
    "\n",
    "Deeper understanding of this layer requires quite a bit of math, but an excellent primer can be found at: https://timdettmers.com/2015/03/26/convolution-deep-learning/\n",
    "\n",
    "Note that since this is the first layer, we also can specify input_shape, to help TensorFlow understand the shape of the input"
   ]
  },
  {
   "cell_type": "code",
   "execution_count": 9,
   "metadata": {
    "ExecuteTime": {
     "end_time": "2021-03-15T19:11:11.374584Z",
     "start_time": "2021-03-15T19:11:11.345870Z"
    }
   },
   "outputs": [],
   "source": [
    "model.add(tf.keras.layers.Conv2D(filters=32, kernel_size=(3, 3), input_shape=(28, 28, 1)))"
   ]
  },
  {
   "cell_type": "markdown",
   "metadata": {},
   "source": [
    "### MaxPooling2D\n",
    "A layer pooling the max value in a 2d grid\n",
    "\n",
    "This is a downsampling method, which allows a larger image to be downsampled by the max value in a given grid. In our previous layer, we modified the image to emphasize the important parts of the image (edges, spaces, etc). Now, to make the image easier to process, we take small grids (2x2 in this case), and take the max value from inside that grid and pass it on to the next layer. This helps get rid of less important data from the image, and make processing faster and usually more precise"
   ]
  },
  {
   "cell_type": "code",
   "execution_count": 10,
   "metadata": {
    "ExecuteTime": {
     "end_time": "2021-03-15T19:11:14.311307Z",
     "start_time": "2021-03-15T19:11:14.305730Z"
    }
   },
   "outputs": [],
   "source": [
    "model.add(tf.keras.layers.MaxPooling2D(pool_size=(2, 2), strides=2))"
   ]
  },
  {
   "cell_type": "markdown",
   "metadata": {},
   "source": [
    "### Flatten\n",
    "A layer flattening a multi-dimensional output into a single-dimensional output\n",
    "\n",
    "This layer is pretty simple, flattening our 2d grid into a single array. This is useful to help the next layer process the data more efficiently. The Dense layer that follows works best with 1 or 2 dimensional inputs which keeps the underlying matrix multiplications simple. It's able to understand the same assocations, since the images are all flattened according to the same algorithm"
   ]
  },
  {
   "cell_type": "code",
   "execution_count": 11,
   "metadata": {
    "ExecuteTime": {
     "end_time": "2021-03-15T19:11:16.975843Z",
     "start_time": "2021-03-15T19:11:16.970357Z"
    }
   },
   "outputs": [],
   "source": [
    "model.add(tf.keras.layers.Flatten())"
   ]
  },
  {
   "cell_type": "markdown",
   "metadata": {},
   "source": [
    "### Dense\n",
    "A densely-connected classification layer\n",
    "\n",
    "Dense layers are the basic classification layers, they receive inputs, and determine which parts of the input are important to classify data based on the outputs at the end. It does this by using something called an \"activation function\". The activation function determines from the inputs how large of an output the neuron will have. This simulates the activation of neurons in the brain, with certain levels of signal in a neuron affecting how great of an electrical impluse is sent out to connected neurons. In this case, these neurons take a weighted sum of the inputs, and produce an output. The weights are then updated as part of an optimization function which we'll cover a bit later with techniques like Gradient Descent and Backpropagation\n",
    "\n",
    "To learn more about activation functions (a very key concept) and how they work, have a look at:\n",
    "https://medium.com/the-theory-of-everything/understanding-activation-functions-in-neural-networks-9491262884e0"
   ]
  },
  {
   "cell_type": "code",
   "execution_count": 12,
   "metadata": {
    "ExecuteTime": {
     "end_time": "2021-03-15T19:11:19.933355Z",
     "start_time": "2021-03-15T19:11:19.923832Z"
    }
   },
   "outputs": [],
   "source": [
    "model.add(tf.keras.layers.Dense(units=64, activation=tf.nn.relu))"
   ]
  },
  {
   "cell_type": "markdown",
   "metadata": {},
   "source": [
    "### Dropout\n",
    "A layer that randomly removes certain dense nodes from training to prevent overfitting\n",
    "\n",
    "Recall in the previous section where we mentioned overfitting. In order to prevent the AI from learning too many of the exact pecularities of the dataset there are several techniques broadly referred to as \"regularization\". This is one technique that is easy to apply to Keras layers. The dropout layer randomly removes a certain percentage of the previous layers from the network while training, to prevent them from becoming too specialized to the training dataset\n",
    "\n",
    "You can read more about regularization techniques at:\n",
    "https://towardsdatascience.com/regularization-in-machine-learning-76441ddcf99a"
   ]
  },
  {
   "cell_type": "code",
   "execution_count": 13,
   "metadata": {
    "ExecuteTime": {
     "end_time": "2021-03-15T19:11:23.196057Z",
     "start_time": "2021-03-15T19:11:23.174326Z"
    }
   },
   "outputs": [],
   "source": [
    "model.add(tf.keras.layers.Dropout(rate=0.2))"
   ]
  },
  {
   "cell_type": "markdown",
   "metadata": {},
   "source": [
    "### Dense (but with softmax activation this time)\n",
    "A classifier layer that outputs a max value\n",
    "\n",
    "In this output layer, we want to classify the work done by all the previous layers. To do so, we take a layer that has nodes representing each class, and take the maximum activation value. That is to say that whichever set of neurons from the previous network provided the greatest confidence in its class becomes the output. In the case of a 0, we would see node 0 having the highest \"activation\" across all of the neurons. In cases where it's close, such as having a .59 and .60 activation we still take the max, knowing that there will likely be some misclassifications in edge cases like that\n",
    "\n",
    "For some fun reading related to the misclassification based on close levels of activation, check out: https://medium.freecodecamp.org/chihuahua-or-muffin-my-search-for-the-best-computer-vision-api-cbda4d6b425d\n",
    "\n",
    "This article covers a set of issues related to misclassifying dogs and bagels (and a google search of this problem can reveal more fun instances of similar issues)"
   ]
  },
  {
   "cell_type": "code",
   "execution_count": 14,
   "metadata": {
    "ExecuteTime": {
     "end_time": "2021-03-15T19:11:26.640140Z",
     "start_time": "2021-03-15T19:11:26.631103Z"
    }
   },
   "outputs": [],
   "source": [
    "model.add(tf.keras.layers.Dense(10, activation=tf.nn.softmax))"
   ]
  },
  {
   "cell_type": "markdown",
   "metadata": {},
   "source": [
    "Finally, we compile our model, using a given optimizer and loss function\n",
    "\n",
    "Our optimizer is the function or set of functions that determine how the model updates its weights as it trains. The loss function is how we calculate how accurate or inaccurate a result from training is. This loss function is minimized by using the optimization function.\n",
    "\n",
    "The techniques used to train the AI are called (broadly) Gradient Descent and Backpropagation. Essentially, the optimizer updates the weights, performs a training iteration, and then updates the weights to be more accurate based on how much they contributed to the correct or incorrect classification during training. The way it calculates the degree that each neuron calculates how much it contributed to the answer is using a technique called \"backpropagation\". The specific functions used can heavily affect how well the AI performs at a given task. In this case, we use the \"adam\" optimizer, and the \"sparse categorical crossentropy\" function to calculate the loss\n",
    "\n",
    "Finally, the metric we want to print out as we go through the training and testing is \"accuracy\". We defined this in the previous notebook as\n",
    "\n",
    "### $ Accuracy = {Correct\\_Predictions \\over Total\\_Predictions} $\n",
    "\n",
    "Explanations of optimization, loss, and gradient descent, tend to be somewhat mathematical explanations and rather than dive in further in this notebook, you can read about exactly how these are calculated here:\n",
    "\n",
    "https://towardsdatascience.com/gradient-descent-in-a-nutshell-eaf8c18212f0\n",
    "\n",
    "https://medium.com/datathings/neural-networks-and-backpropagation-explained-in-a-simple-way-f540a3611f5e\n",
    "\n",
    "https://skymind.ai/wiki/backpropagation\n",
    "\n",
    "The adam optimizer is a variant of Stochastic Gradient Descent, and has some benefits, you can read about them at https://machinelearningmastery.com/adam-optimization-algorithm-for-deep-learning/\n",
    "\n",
    "The loss functions can be read about at: https://blog.algorithmia.com/introduction-to-loss-functions/"
   ]
  },
  {
   "cell_type": "code",
   "execution_count": 15,
   "metadata": {
    "ExecuteTime": {
     "end_time": "2021-03-15T19:11:34.035904Z",
     "start_time": "2021-03-15T19:11:34.021333Z"
    }
   },
   "outputs": [],
   "source": [
    "model.compile(optimizer='adam',\n",
    "              loss='sparse_categorical_crossentropy',\n",
    "              metrics=['accuracy'])"
   ]
  },
  {
   "cell_type": "markdown",
   "metadata": {},
   "source": [
    "We can see a summary of the layers, and how they are connected with `model.summary()`"
   ]
  },
  {
   "cell_type": "code",
   "execution_count": 16,
   "metadata": {
    "ExecuteTime": {
     "end_time": "2021-03-15T19:11:37.220400Z",
     "start_time": "2021-03-15T19:11:37.215245Z"
    }
   },
   "outputs": [
    {
     "name": "stdout",
     "output_type": "stream",
     "text": [
      "Model: \"sequential\"\n",
      "_________________________________________________________________\n",
      "Layer (type)                 Output Shape              Param #   \n",
      "=================================================================\n",
      "conv2d (Conv2D)              (None, 26, 26, 32)        320       \n",
      "_________________________________________________________________\n",
      "max_pooling2d (MaxPooling2D) (None, 13, 13, 32)        0         \n",
      "_________________________________________________________________\n",
      "flatten (Flatten)            (None, 5408)              0         \n",
      "_________________________________________________________________\n",
      "dense (Dense)                (None, 64)                346176    \n",
      "_________________________________________________________________\n",
      "dropout (Dropout)            (None, 64)                0         \n",
      "_________________________________________________________________\n",
      "dense_1 (Dense)              (None, 10)                650       \n",
      "=================================================================\n",
      "Total params: 347,146\n",
      "Trainable params: 347,146\n",
      "Non-trainable params: 0\n",
      "_________________________________________________________________\n"
     ]
    }
   ],
   "source": [
    "model.summary()"
   ]
  },
  {
   "cell_type": "markdown",
   "metadata": {},
   "source": [
    "### Training\n",
    "\n",
    "Finally we train the model with the features and labels we formatted earlier. Depending on the machine, this may happen very quickly or very slowly. Training a model in some more advanced cases could even take days, hence why the advancements in GPU performance have been so crucial in bringing AI into viability for solving many problems that were once thought intractable"
   ]
  },
  {
   "cell_type": "code",
   "execution_count": 17,
   "metadata": {
    "ExecuteTime": {
     "end_time": "2021-03-15T19:12:07.606470Z",
     "start_time": "2021-03-15T19:11:45.483417Z"
    }
   },
   "outputs": [
    {
     "name": "stderr",
     "output_type": "stream",
     "text": [
      "2021-09-14 18:55:25.621708: I tensorflow/compiler/mlir/mlir_graph_optimization_pass.cc:116] None of the MLIR optimization passes are enabled (registered 2)\n",
      "2021-09-14 18:55:25.633357: I tensorflow/core/platform/profile_utils/cpu_utils.cc:112] CPU Frequency: 2499995000 Hz\n"
     ]
    },
    {
     "name": "stdout",
     "output_type": "stream",
     "text": [
      "Epoch 1/3\n",
      "1875/1875 [==============================] - 6s 3ms/step - loss: 0.4373 - accuracy: 0.8658\n",
      "Epoch 2/3\n",
      "1875/1875 [==============================] - 6s 3ms/step - loss: 0.1141 - accuracy: 0.9648\n",
      "Epoch 3/3\n",
      "1875/1875 [==============================] - 6s 3ms/step - loss: 0.0838 - accuracy: 0.9728\n"
     ]
    },
    {
     "data": {
      "text/plain": [
       "<tensorflow.python.keras.callbacks.History at 0x7f52f91f7700>"
      ]
     },
     "execution_count": 17,
     "metadata": {},
     "output_type": "execute_result"
    }
   ],
   "source": [
    "model.fit(train_features, train_labels, epochs=3)"
   ]
  },
  {
   "cell_type": "markdown",
   "metadata": {},
   "source": [
    "### Testing\n",
    "\n",
    "Now that we have trained the model, we need to ensure that it will generalize to data that it hasn't seen before. In this case, we want the accuracy and loss to be fairly close to the values we saw at the end of the training. If they're not, that indicates that our model is probably overfitted to the training data to some extent, and won't perform well on data it hasn't seen before.\n",
    "\n",
    "Note that no AI is perfect, and this is a departure from traditional computer science where results tend to be either right or wrong, an AI can make mistakes. This tradeoff is important to understand, and is a reason why AI is not suitable for every problem. However, AI becoming more practical has opened up the ability to solve a vast set of problems that were once considered nearly impossible"
   ]
  },
  {
   "cell_type": "code",
   "execution_count": 18,
   "metadata": {
    "ExecuteTime": {
     "end_time": "2021-03-15T19:12:19.216357Z",
     "start_time": "2021-03-15T19:12:18.587315Z"
    }
   },
   "outputs": [
    {
     "name": "stdout",
     "output_type": "stream",
     "text": [
      "313/313 [==============================] - 1s 1ms/step - loss: 0.0660 - accuracy: 0.9793\n"
     ]
    },
    {
     "data": {
      "text/plain": [
       "[0.06596393138170242, 0.9793000221252441]"
      ]
     },
     "execution_count": 18,
     "metadata": {},
     "output_type": "execute_result"
    }
   ],
   "source": [
    "model.evaluate(test_features, test_labels)"
   ]
  },
  {
   "cell_type": "markdown",
   "metadata": {},
   "source": [
    "### Saving\n",
    "\n",
    "Finally, we want to save our model out, since we'll be reusing it in a later notebook\n",
    "\n",
    "There are many ways to save the model, but the most common are:\n",
    "* HDF5 format, a which saves the model as a single file with the configuration of the layers and weights included\n",
    "* JSON format, which saves just the configuration of the layers, it requires the weights to be saved separately\n",
    "* SavedModel format, a TensorFlow-specific layout involving a few directories. This format is required by the TensorFlow Serving server which allows you to easily serve the model to other systems"
   ]
  },
  {
   "cell_type": "code",
   "execution_count": 19,
   "metadata": {
    "ExecuteTime": {
     "end_time": "2021-03-15T19:12:33.436780Z",
     "start_time": "2021-03-15T19:12:33.410827Z"
    }
   },
   "outputs": [],
   "source": [
    "# If you want to save the model in its current state in HDF5 format, you would use the following\n",
    "model.save('mnist-model/mnist-model.h5', overwrite=True, include_optimizer=True)\n",
    "\n",
    "# We'll explore in the next section how to serve this model"
   ]
  },
  {
   "cell_type": "markdown",
   "metadata": {},
   "source": [
    "### Showing some examples\n",
    "\n",
    "We can also show some examples from the test dataset along with their predictions\n",
    "\n",
    "You can re-run this cell to select a different example"
   ]
  },
  {
   "cell_type": "code",
   "execution_count": 20,
   "metadata": {
    "ExecuteTime": {
     "end_time": "2021-03-15T19:12:44.717595Z",
     "start_time": "2021-03-15T19:12:44.565719Z"
    }
   },
   "outputs": [
    {
     "name": "stdout",
     "output_type": "stream",
     "text": [
      "Features:\n",
      "Actual label: 3\n",
      "Predicted label: 3\n"
     ]
    },
    {
     "data": {
      "image/png": "[encoded data removed]",
      "text/plain": [
       "<Figure size 432x288 with 1 Axes>"
      ]
     },
     "metadata": {
      "needs_background": "light"
     },
     "output_type": "display_data"
    }
   ],
   "source": [
    "# Select a random example\n",
    "selected_element = np.random.randint(0, 9999)\n",
    "\n",
    "features = test_features[selected_element].reshape((28,28))\n",
    "label = test_labels[selected_element]\n",
    "\n",
    "print(\"Features:\")\n",
    "plt.imshow(features, cmap=\"Greys\")\n",
    "\n",
    "print(\"Actual label: \" + str(label))\n",
    "\n",
    "print(\"Predicted label: \" + str(model.predict(features.reshape((1,28,28,1)))[0].argmax()))"
   ]
  },
  {
   "cell_type": "code",
   "execution_count": 24,
   "metadata": {},
   "outputs": [
    {
     "ename": "OSError",
     "evalue": "SavedModel file does not exist at: mnist-model/mnist-model.h5/{saved_model.pbtxt|saved_model.pb}",
     "output_type": "error",
     "traceback": [
      "\u001b[0;31m---------------------------------------------------------------------------\u001b[0m",
      "\u001b[0;31mOSError\u001b[0m                                   Traceback (most recent call last)",
      "\u001b[0;32m/tmp/ipykernel_547/3705568047.py\u001b[0m in \u001b[0;36m<module>\u001b[0;34m\u001b[0m\n\u001b[1;32m     10\u001b[0m \u001b[0;34m\u001b[0m\u001b[0m\n\u001b[1;32m     11\u001b[0m \u001b[0mmodel_dir\u001b[0m \u001b[0;34m=\u001b[0m \u001b[0;34m'mnist-model/mnist-model.h5'\u001b[0m\u001b[0;34m\u001b[0m\u001b[0;34m\u001b[0m\u001b[0m\n\u001b[0;32m---> 12\u001b[0;31m \u001b[0msaved_model\u001b[0m \u001b[0;34m=\u001b[0m \u001b[0mtf\u001b[0m\u001b[0;34m.\u001b[0m\u001b[0msaved_model\u001b[0m\u001b[0;34m.\u001b[0m\u001b[0mload\u001b[0m\u001b[0;34m(\u001b[0m\u001b[0mmodel_dir\u001b[0m\u001b[0;34m)\u001b[0m\u001b[0;34m\u001b[0m\u001b[0;34m\u001b[0m\u001b[0m\n\u001b[0m\u001b[1;32m     13\u001b[0m \u001b[0mpredictor\u001b[0m \u001b[0;34m=\u001b[0m \u001b[0msaved_model\u001b[0m\u001b[0;34m.\u001b[0m\u001b[0msignatures\u001b[0m\u001b[0;34m[\u001b[0m\u001b[0;34m'default'\u001b[0m\u001b[0;34m]\u001b[0m\u001b[0;34m\u001b[0m\u001b[0;34m\u001b[0m\u001b[0m\n\u001b[1;32m     14\u001b[0m \u001b[0;34m\u001b[0m\u001b[0m\n",
      "\u001b[0;32m/opt/app-root/lib64/python3.8/site-packages/tensorflow/python/saved_model/load.py\u001b[0m in \u001b[0;36mload\u001b[0;34m(export_dir, tags, options)\u001b[0m\n\u001b[1;32m    857\u001b[0m     \u001b[0mValueError\u001b[0m\u001b[0;34m:\u001b[0m \u001b[0mIf\u001b[0m\u001b[0;31m \u001b[0m\u001b[0;31m`\u001b[0m\u001b[0mtags\u001b[0m\u001b[0;31m`\u001b[0m \u001b[0mdon\u001b[0m\u001b[0;31m'\u001b[0m\u001b[0mt\u001b[0m \u001b[0mmatch\u001b[0m \u001b[0ma\u001b[0m \u001b[0mMetaGraph\u001b[0m \u001b[0;32min\u001b[0m \u001b[0mthe\u001b[0m \u001b[0mSavedModel\u001b[0m\u001b[0;34m.\u001b[0m\u001b[0;34m\u001b[0m\u001b[0;34m\u001b[0m\u001b[0m\n\u001b[1;32m    858\u001b[0m   \"\"\"\n\u001b[0;32m--> 859\u001b[0;31m   \u001b[0;32mreturn\u001b[0m \u001b[0mload_internal\u001b[0m\u001b[0;34m(\u001b[0m\u001b[0mexport_dir\u001b[0m\u001b[0;34m,\u001b[0m \u001b[0mtags\u001b[0m\u001b[0;34m,\u001b[0m \u001b[0moptions\u001b[0m\u001b[0;34m)\u001b[0m\u001b[0;34m[\u001b[0m\u001b[0;34m\"root\"\u001b[0m\u001b[0;34m]\u001b[0m\u001b[0;34m\u001b[0m\u001b[0;34m\u001b[0m\u001b[0m\n\u001b[0m\u001b[1;32m    860\u001b[0m \u001b[0;34m\u001b[0m\u001b[0m\n\u001b[1;32m    861\u001b[0m \u001b[0;34m\u001b[0m\u001b[0m\n",
      "\u001b[0;32m/opt/app-root/lib64/python3.8/site-packages/tensorflow/python/saved_model/load.py\u001b[0m in \u001b[0;36mload_internal\u001b[0;34m(export_dir, tags, options, loader_cls, filters)\u001b[0m\n\u001b[1;32m    869\u001b[0m     \u001b[0mtags\u001b[0m \u001b[0;34m=\u001b[0m \u001b[0mnest\u001b[0m\u001b[0;34m.\u001b[0m\u001b[0mflatten\u001b[0m\u001b[0;34m(\u001b[0m\u001b[0mtags\u001b[0m\u001b[0;34m)\u001b[0m\u001b[0;34m\u001b[0m\u001b[0;34m\u001b[0m\u001b[0m\n\u001b[1;32m    870\u001b[0m   saved_model_proto, debug_info = (\n\u001b[0;32m--> 871\u001b[0;31m       loader_impl.parse_saved_model_with_debug_info(export_dir))\n\u001b[0m\u001b[1;32m    872\u001b[0m \u001b[0;34m\u001b[0m\u001b[0m\n\u001b[1;32m    873\u001b[0m   if (len(saved_model_proto.meta_graphs) == 1 and\n",
      "\u001b[0;32m/opt/app-root/lib64/python3.8/site-packages/tensorflow/python/saved_model/loader_impl.py\u001b[0m in \u001b[0;36mparse_saved_model_with_debug_info\u001b[0;34m(export_dir)\u001b[0m\n\u001b[1;32m     54\u001b[0m     \u001b[0mparsed\u001b[0m\u001b[0;34m.\u001b[0m \u001b[0mMissing\u001b[0m \u001b[0mgraph\u001b[0m \u001b[0mdebug\u001b[0m \u001b[0minfo\u001b[0m \u001b[0mfile\u001b[0m \u001b[0;32mis\u001b[0m \u001b[0mfine\u001b[0m\u001b[0;34m.\u001b[0m\u001b[0;34m\u001b[0m\u001b[0;34m\u001b[0m\u001b[0m\n\u001b[1;32m     55\u001b[0m   \"\"\"\n\u001b[0;32m---> 56\u001b[0;31m   \u001b[0msaved_model\u001b[0m \u001b[0;34m=\u001b[0m \u001b[0m_parse_saved_model\u001b[0m\u001b[0;34m(\u001b[0m\u001b[0mexport_dir\u001b[0m\u001b[0;34m)\u001b[0m\u001b[0;34m\u001b[0m\u001b[0;34m\u001b[0m\u001b[0m\n\u001b[0m\u001b[1;32m     57\u001b[0m \u001b[0;34m\u001b[0m\u001b[0m\n\u001b[1;32m     58\u001b[0m   debug_info_path = os.path.join(\n",
      "\u001b[0;32m/opt/app-root/lib64/python3.8/site-packages/tensorflow/python/saved_model/loader_impl.py\u001b[0m in \u001b[0;36mparse_saved_model\u001b[0;34m(export_dir)\u001b[0m\n\u001b[1;32m    109\u001b[0m       \u001b[0;32mraise\u001b[0m \u001b[0mIOError\u001b[0m\u001b[0;34m(\u001b[0m\u001b[0;34m\"Cannot parse file %s: %s.\"\u001b[0m \u001b[0;34m%\u001b[0m \u001b[0;34m(\u001b[0m\u001b[0mpath_to_pbtxt\u001b[0m\u001b[0;34m,\u001b[0m \u001b[0mstr\u001b[0m\u001b[0;34m(\u001b[0m\u001b[0me\u001b[0m\u001b[0;34m)\u001b[0m\u001b[0;34m)\u001b[0m\u001b[0;34m)\u001b[0m\u001b[0;34m\u001b[0m\u001b[0;34m\u001b[0m\u001b[0m\n\u001b[1;32m    110\u001b[0m   \u001b[0;32melse\u001b[0m\u001b[0;34m:\u001b[0m\u001b[0;34m\u001b[0m\u001b[0;34m\u001b[0m\u001b[0m\n\u001b[0;32m--> 111\u001b[0;31m     raise IOError(\"SavedModel file does not exist at: %s/{%s|%s}\" %\n\u001b[0m\u001b[1;32m    112\u001b[0m                   (export_dir,\n\u001b[1;32m    113\u001b[0m                    \u001b[0mconstants\u001b[0m\u001b[0;34m.\u001b[0m\u001b[0mSAVED_MODEL_FILENAME_PBTXT\u001b[0m\u001b[0;34m,\u001b[0m\u001b[0;34m\u001b[0m\u001b[0;34m\u001b[0m\u001b[0m\n",
      "\u001b[0;31mOSError\u001b[0m: SavedModel file does not exist at: mnist-model/mnist-model.h5/{saved_model.pbtxt|saved_model.pb}"
     ]
    }
   ],
   "source": [
    "import tensorflow as tf\n",
    "import numpy as np\n",
    "import base64\n",
    "\n",
    "#model = keras.models.load_model('models/repairmodel.h5')\n",
    "\n",
    "# Load your model.\n",
    "# model_dir = 'models/myfancymodel'\n",
    "# saved_model = tf.saved_model.load(model_dir)\n",
    "# predictor = saved_model.signatures['default']\n",
    "\n",
    "model_dir = 'mnist-model/mnist-model.h5'\n",
    "saved_model = tf.saved_model.load(model_dir)\n",
    "predictor = saved_model.signatures['default']\n",
    "\n",
    "model.open('mnist-model/mnist-model.h5', overwrite=True, include_optimizer=True)\n",
    "\n",
    "#user does not pass integer, random integer is selected automatically\n",
    "def predict():\n",
    "    # Select a random example\n",
    "    selected_element        = np.random.randint(0, 9999)\n",
    "\n",
    "    features                = test_features[selected_element].reshape((28,28))\n",
    "    label                   = test_labels[selected_element]\n",
    "\n",
    "    plt.imshow(features, cmap=\"Greys\")\n",
    "\n",
    "    actual_label            = str(label)\n",
    "    single_predicated_label = str(model.predict(features.reshape((1,28,28,1)))[0].argmax())\n",
    "    \n",
    "    return {'prediction': single_predicted_label}\n",
    "\n",
    "predict()\n",
    "#test prediction function ===========================================\n",
    "#prediction = predict(single_test_text)  \n",
    "#print('returned prediction: ' + prediction)"
   ]
  },
  {
   "cell_type": "code",
   "execution_count": null,
   "metadata": {},
   "outputs": [],
   "source": []
  }
 ],
 "metadata": {
  "kernelspec": {
   "display_name": "Python 3 (ipykernel)",
   "language": "python",
   "name": "python3"
  },
  "language_info": {
   "codemirror_mode": {
    "name": "ipython",
    "version": 3
   },
   "file_extension": ".py",
   "mimetype": "text/x-python",
   "name": "python",
   "nbconvert_exporter": "python",
   "pygments_lexer": "ipython3",
   "version": "3.8.6"
  },
  "toc": {
   "base_numbering": 1,
   "nav_menu": {},
   "number_sections": true,
   "sideBar": true,
   "skip_h1_title": false,
   "title_cell": "Table of Contents",
   "title_sidebar": "Contents",
   "toc_cell": false,
   "toc_position": {},
   "toc_section_display": true,
   "toc_window_display": false
  }
 },
 "nbformat": 4,
 "nbformat_minor": 4
}
