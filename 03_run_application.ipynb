{
 "cells": [
  {
   "cell_type": "markdown",
   "metadata": {},
   "source": [
    "## Flask\n",
    "Our API will be served directly from our container using Flask, a popular Python Web Server.\n",
    "The Flask application, which will call our prediction function, is defined in the `wsgi.py` file."
   ]
  },
  {
   "cell_type": "markdown",
   "metadata": {},
   "source": [
    "As always, we'll first run some imports to make sure all our requirements are there:"
   ]
  },
  {
   "cell_type": "code",
   "execution_count": 1,
   "metadata": {
    "ExecuteTime": {
     "end_time": "2021-04-13T19:39:12.918898Z",
     "start_time": "2021-04-13T19:38:57.226296Z"
    }
   },
   "outputs": [
    {
     "name": "stdout",
     "output_type": "stream",
     "text": [
      "Requirement already satisfied: Flask in /opt/app-root/lib/python3.8/site-packages (from -r requirements.txt (line 1)) (2.0.1)\n",
      "Requirement already satisfied: gunicorn in /opt/app-root/lib/python3.8/site-packages (from -r requirements.txt (line 2)) (20.1.0)\n",
      "Requirement already satisfied: h5py==2.10.0 in /opt/app-root/lib/python3.8/site-packages (from -r requirements.txt (line 3)) (2.10.0)\n",
      "Requirement already satisfied: requests in /opt/app-root/lib/python3.8/site-packages (from -r requirements.txt (line 4)) (2.25.1)\n",
      "Requirement already satisfied: Pillow in /opt/app-root/lib/python3.8/site-packages (from -r requirements.txt (line 5)) (8.3.1)\n",
      "Requirement already satisfied: numpy>=1.7 in /opt/app-root/lib/python3.8/site-packages (from h5py==2.10.0->-r requirements.txt (line 3)) (1.19.2)\n",
      "Requirement already satisfied: six in /opt/app-root/lib/python3.8/site-packages (from h5py==2.10.0->-r requirements.txt (line 3)) (1.15.0)\n",
      "Requirement already satisfied: Jinja2>=3.0 in /opt/app-root/lib/python3.8/site-packages (from Flask->-r requirements.txt (line 1)) (3.0.1)\n",
      "Requirement already satisfied: itsdangerous>=2.0 in /opt/app-root/lib/python3.8/site-packages (from Flask->-r requirements.txt (line 1)) (2.0.1)\n",
      "Requirement already satisfied: click>=7.1.2 in /opt/app-root/lib/python3.8/site-packages (from Flask->-r requirements.txt (line 1)) (8.0.1)\n",
      "Requirement already satisfied: Werkzeug>=2.0 in /opt/app-root/lib/python3.8/site-packages (from Flask->-r requirements.txt (line 1)) (2.0.1)\n",
      "Requirement already satisfied: setuptools>=3.0 in /opt/app-root/lib/python3.8/site-packages (from gunicorn->-r requirements.txt (line 2)) (57.4.0)\n",
      "Requirement already satisfied: idna<3,>=2.5 in /opt/app-root/lib/python3.8/site-packages (from requests->-r requirements.txt (line 4)) (2.10)\n",
      "Requirement already satisfied: chardet<5,>=3.0.2 in /opt/app-root/lib/python3.8/site-packages (from requests->-r requirements.txt (line 4)) (4.0.0)\n",
      "Requirement already satisfied: urllib3<1.27,>=1.21.1 in /opt/app-root/lib/python3.8/site-packages (from requests->-r requirements.txt (line 4)) (1.26.6)\n",
      "Requirement already satisfied: certifi>=2017.4.17 in /opt/app-root/lib/python3.8/site-packages (from requests->-r requirements.txt (line 4)) (2021.5.30)\n",
      "Requirement already satisfied: MarkupSafe>=2.0 in /opt/app-root/lib/python3.8/site-packages (from Jinja2>=3.0->Flask->-r requirements.txt (line 1)) (2.0.1)\n"
     ]
    }
   ],
   "source": [
    "import sys\n",
    "!{sys.executable} -m pip install -r requirements.txt"
   ]
  },
  {
   "cell_type": "markdown",
   "metadata": {},
   "source": [
    "Now that we have everything in place, we can launch the Flask application.\n",
    "\n",
    "(Please ignore the CUDA errors of warning if you don't have any GPU).\n",
    "\n",
    "This cell will be in a **permanent running state**. That's normal as the webserver process will keep running. When you are **finished** with the test you can just select the cell, and click on the **Stop button** (next to Run)."
   ]
  },
  {
   "cell_type": "code",
   "execution_count": 2,
   "metadata": {
    "ExecuteTime": {
     "end_time": "2021-04-13T20:22:18.706055Z",
     "start_time": "2021-04-13T20:12:31.112873Z"
    }
   },
   "outputs": [
    {
     "name": "stdout",
     "output_type": "stream",
     "text": [
      " * Serving Flask app 'wsgi.py' (lazy loading)\n",
      " * Environment: development\n",
      " * Debug mode: on\n",
      "2021-09-14 18:56:10.460565: I tensorflow/stream_executor/platform/default/dso_loader.cc:49] Successfully opened dynamic library libcudart.so.11.0\n",
      "Traceback (most recent call last):\n",
      "  File \"/opt/app-root/bin/flask\", line 8, in <module>\n",
      "    sys.exit(main())\n",
      "  File \"/opt/app-root/lib64/python3.8/site-packages/flask/cli.py\", line 990, in main\n",
      "    cli.main(args=sys.argv[1:])\n",
      "  File \"/opt/app-root/lib64/python3.8/site-packages/flask/cli.py\", line 596, in main\n",
      "    return super().main(*args, **kwargs)\n",
      "  File \"/opt/app-root/lib64/python3.8/site-packages/click/core.py\", line 1062, in main\n",
      "    rv = self.invoke(ctx)\n",
      "  File \"/opt/app-root/lib64/python3.8/site-packages/click/core.py\", line 1668, in invoke\n",
      "    return _process_result(sub_ctx.command.invoke(sub_ctx))\n",
      "  File \"/opt/app-root/lib64/python3.8/site-packages/click/core.py\", line 1404, in invoke\n",
      "    return ctx.invoke(self.callback, **ctx.params)\n",
      "  File \"/opt/app-root/lib64/python3.8/site-packages/click/core.py\", line 763, in invoke\n",
      "    return __callback(*args, **kwargs)\n",
      "  File \"/opt/app-root/lib64/python3.8/site-packages/click/decorators.py\", line 84, in new_func\n",
      "    return ctx.invoke(f, obj, *args, **kwargs)\n",
      "  File \"/opt/app-root/lib64/python3.8/site-packages/click/core.py\", line 763, in invoke\n",
      "    return __callback(*args, **kwargs)\n",
      "  File \"/opt/app-root/lib64/python3.8/site-packages/flask/cli.py\", line 845, in run_command\n",
      "    app = DispatchingApp(info.load_app, use_eager_loading=eager_loading)\n",
      "  File \"/opt/app-root/lib64/python3.8/site-packages/flask/cli.py\", line 321, in __init__\n",
      "    self._load_unlocked()\n",
      "  File \"/opt/app-root/lib64/python3.8/site-packages/flask/cli.py\", line 346, in _load_unlocked\n",
      "    self._app = rv = self.loader()\n",
      "  File \"/opt/app-root/lib64/python3.8/site-packages/flask/cli.py\", line 402, in load_app\n",
      "    app = locate_app(self, import_name, name)\n",
      "  File \"/opt/app-root/lib64/python3.8/site-packages/flask/cli.py\", line 256, in locate_app\n",
      "    __import__(module_name)\n",
      "  File \"/opt/app-root/src/RHSummit2019/wsgi.py\", line 3, in <module>\n",
      "    from prediction import predict\n",
      "  File \"/opt/app-root/src/RHSummit2019/prediction.py\", line 7, in <module>\n",
      "    saved_model = tf.saved_model.locad(model_dir)\n",
      "AttributeError: module 'tensorflow._api.v2.saved_model' has no attribute 'locad'\n"
     ]
    }
   ],
   "source": [
    "!FLASK_ENV=development FLASK_APP=wsgi.py flask run"
   ]
  },
  {
   "cell_type": "markdown",
   "metadata": {},
   "source": [
    "Once the models have been loaded, our server is ready to take requests. Leave this notebook running,and open `04_MBR_test_application.ipynb`."
   ]
  }
 ],
 "metadata": {
  "finalized": {
   "timestamp": 1618345356814,
   "trusted": true
  },
  "kernelspec": {
   "display_name": "Python 3 (ipykernel)",
   "language": "python",
   "name": "python3"
  },
  "language_info": {
   "codemirror_mode": {
    "name": "ipython",
    "version": 3
   },
   "file_extension": ".py",
   "mimetype": "text/x-python",
   "name": "python",
   "nbconvert_exporter": "python",
   "pygments_lexer": "ipython3",
   "version": "3.8.6"
  },
  "toc": {
   "base_numbering": 1,
   "nav_menu": {},
   "number_sections": true,
   "sideBar": true,
   "skip_h1_title": false,
   "title_cell": "Table of Contents",
   "title_sidebar": "Contents",
   "toc_cell": false,
   "toc_position": {},
   "toc_section_display": true,
   "toc_window_display": false
  }
 },
 "nbformat": 4,
 "nbformat_minor": 4
}
